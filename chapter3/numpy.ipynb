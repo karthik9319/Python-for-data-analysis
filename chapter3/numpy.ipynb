{
 "cells": [
  {
   "cell_type": "code",
   "execution_count": 1,
   "id": "62a87a62",
   "metadata": {},
   "outputs": [],
   "source": [
    "import numpy as np"
   ]
  },
  {
   "cell_type": "code",
   "execution_count": 2,
   "id": "f7059b05",
   "metadata": {},
   "outputs": [],
   "source": [
    "x = np.arange(100000)"
   ]
  },
  {
   "cell_type": "code",
   "execution_count": 3,
   "id": "78c0e0d1",
   "metadata": {},
   "outputs": [],
   "source": [
    "y = list(range(100000))"
   ]
  },
  {
   "cell_type": "code",
   "execution_count": 6,
   "id": "60d58a87",
   "metadata": {},
   "outputs": [
    {
     "name": "stdout",
     "output_type": "stream",
     "text": [
      "CPU times: user 3 µs, sys: 1e+03 ns, total: 4 µs\n",
      "Wall time: 11 µs\n"
     ]
    }
   ],
   "source": [
    "%time\n",
    "for _ in range(10):\n",
    "    x = x*2\n"
   ]
  },
  {
   "cell_type": "code",
   "execution_count": 7,
   "id": "f7e4ddd0",
   "metadata": {},
   "outputs": [
    {
     "name": "stdout",
     "output_type": "stream",
     "text": [
      "CPU times: user 2 µs, sys: 0 ns, total: 2 µs\n",
      "Wall time: 5.25 µs\n"
     ]
    }
   ],
   "source": [
    "%time\n",
    "for _ in range(10):\n",
    "    y = y*2"
   ]
  },
  {
   "cell_type": "code",
   "execution_count": 9,
   "id": "3676b9c7",
   "metadata": {},
   "outputs": [
    {
     "data": {
      "text/plain": [
       "array([[-1.79019031,  1.22631056,  0.93565513],\n",
       "       [ 0.55100442,  0.9983459 , -1.38043707]])"
      ]
     },
     "execution_count": 9,
     "metadata": {},
     "output_type": "execute_result"
    }
   ],
   "source": [
    "data = np.random.randn(2,3)\n",
    "data"
   ]
  },
  {
   "cell_type": "code",
   "execution_count": 10,
   "id": "7145d48a",
   "metadata": {},
   "outputs": [
    {
     "data": {
      "text/plain": [
       "array([[-17.9019031 ,  12.26310559,   9.35655129],\n",
       "       [  5.51004416,   9.983459  , -13.80437068]])"
      ]
     },
     "execution_count": 10,
     "metadata": {},
     "output_type": "execute_result"
    }
   ],
   "source": [
    "data*10"
   ]
  },
  {
   "cell_type": "code",
   "execution_count": 11,
   "id": "6c21d346",
   "metadata": {},
   "outputs": [
    {
     "data": {
      "text/plain": [
       "array([[-3.58038062,  2.45262112,  1.87131026],\n",
       "       [ 1.10200883,  1.9966918 , -2.76087414]])"
      ]
     },
     "execution_count": 11,
     "metadata": {},
     "output_type": "execute_result"
    }
   ],
   "source": [
    "data+data"
   ]
  },
  {
   "cell_type": "code",
   "execution_count": null,
   "id": "3712c4ba",
   "metadata": {},
   "outputs": [],
   "source": []
  }
 ],
 "metadata": {
  "kernelspec": {
   "display_name": "python-for-data-analysis",
   "language": "python",
   "name": "python-for-data-analysis"
  },
  "language_info": {
   "codemirror_mode": {
    "name": "ipython",
    "version": 3
   },
   "file_extension": ".py",
   "mimetype": "text/x-python",
   "name": "python",
   "nbconvert_exporter": "python",
   "pygments_lexer": "ipython3",
   "version": "3.9.4"
  }
 },
 "nbformat": 4,
 "nbformat_minor": 5
}
